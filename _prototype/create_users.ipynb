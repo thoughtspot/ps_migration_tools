{
 "cells": [
  {
   "cell_type": "code",
   "execution_count": 16,
   "id": "cc967309",
   "metadata": {},
   "outputs": [
    {
     "name": "stdout",
     "output_type": "stream",
     "text": [
      "migration_adm\n",
      "123Cloud!\n",
      "https://aiq.cwtanalytiqs.com\n"
     ]
    }
   ],
   "source": [
    "import os\n",
    "import requests\n",
    "import string\n",
    "import random\n",
    "from Preamble import *\n",
    "from thoughtspot_rest_api_v1 import *\n",
    "# from src.thoughtspot_rest_api_v1.tsrestapiv1 import *\n",
    "\n",
    "thoughtspot_server = ts_host2       # or type in yourself\n",
    "service_acct_username = username2  # or type in yourself\n",
    "service_acct_password = password2  # or type in yourself\n",
    "\n",
    "ts: TSRestApiV1 = TSRestApiV1(server_url=thoughtspot_server)\n",
    "\n",
    "# Wrapped in function to call as part of a retry loop when used in a long-running server / service process\n",
    "def login():\n",
    "    try:\n",
    "        ts.session_login(username=service_acct_username, password=service_acct_password)\n",
    "    except requests.exceptions.HTTPError as e:\n",
    "        print(e)\n",
    "        print(e.response.content)\n",
    "\n",
    "\n",
    "login()\n",
    "\n",
    "def create_user(rest_api_obj: TSRestApiV1, username, display_name, email, groups_guid):\n",
    "\n",
    "    # REST API requires setting a password for users, but it is never used with SSO\n",
    "    # Randomly generate password and set it when creating using\n",
    "    letters = string.ascii_letters\n",
    "    user_password = ''.join(random.choice(letters) for i in range(20))\n",
    "\n",
    "    new_user_guid = rest_api_obj.user_post(username=username, password=user_password, display_name=display_name,\n",
    "                                           properties = None,groups=groups_guid)"
   ]
  },
  {
   "cell_type": "markdown",
   "id": "e0a0e7fb",
   "metadata": {},
   "source": [
    "# Examples"
   ]
  },
  {
   "cell_type": "code",
   "execution_count": null,
   "id": "40f3b75c",
   "metadata": {},
   "outputs": [],
   "source": [
    "pip install thoughtspot_rest_api_v1 --upgrade"
   ]
  },
  {
   "cell_type": "code",
   "execution_count": 17,
   "id": "07bfb437",
   "metadata": {},
   "outputs": [],
   "source": [
    "create_user(rest_api_obj=ts, username='user_username', display_name='user_full_name',\n",
    "                            email='abc@mycwt.com', groups_guid=[])"
   ]
  }
 ],
 "metadata": {
  "kernelspec": {
   "display_name": "Python 3 (ipykernel)",
   "language": "python",
   "name": "python3"
  },
  "language_info": {
   "codemirror_mode": {
    "name": "ipython",
    "version": 3
   },
   "file_extension": ".py",
   "mimetype": "text/x-python",
   "name": "python",
   "nbconvert_exporter": "python",
   "pygments_lexer": "ipython3",
   "version": "3.10.4"
  }
 },
 "nbformat": 4,
 "nbformat_minor": 5
}
